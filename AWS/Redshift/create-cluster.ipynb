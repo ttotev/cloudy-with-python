{
 "cells": [
  {
   "cell_type": "code",
   "execution_count": null,
   "metadata": {},
   "outputs": [],
   "source": [
    "import boto3\n",
    "import time"
   ]
  },
  {
   "cell_type": "markdown",
   "metadata": {},
   "source": [
    "Credentials to access AWS (__aws_access_key_id__ and __aws_secret_access_key__) are stored in ~/.aws/credentials under [datalord] profile"
   ]
  },
  {
   "cell_type": "code",
   "execution_count": null,
   "metadata": {},
   "outputs": [],
   "source": [
    "session = boto3.Session(profile_name='datalord', region_name='us-east-1')\n",
    "client = session.client('redshift')"
   ]
  },
  {
   "cell_type": "markdown",
   "metadata": {},
   "source": [
    "Update the variables in the cell below. Adjust for your needs."
   ]
  },
  {
   "cell_type": "code",
   "execution_count": null,
   "metadata": {},
   "outputs": [],
   "source": [
    "cluster_identifier = 'datalord-rs-cluster'\n",
    "cluster_roles = [\n",
    "    'arn:aws:iam::...AccountNumber...:role/DataLord-RH-role', # replace ...AccountNumber... with your real one\n",
    "]\n",
    "cluster_subnet_group_name = 'datalord-sub-gr'\n",
    "cluster_subnet_group_descr = 'Datalord Redshift Subnet Group'\n",
    "cluster_subnet_ids = [\n",
    "    'subnet-...SubId...', # replace ...SubId... with your real one\n",
    "]\n",
    "user_name = 'datalord'\n",
    "user_password = 'Password123' # just a sample. Change it!!!"
   ]
  },
  {
   "cell_type": "markdown",
   "metadata": {},
   "source": [
    "Create Cluster Subnet Group<br>\n",
    "Documentation for [create_cluster_subnet_group](https://boto3.amazonaws.com/v1/documentation/api/latest/reference/services/redshift.html#Redshift.Client.create_cluster_subnet_group)"
   ]
  },
  {
   "cell_type": "code",
   "execution_count": null,
   "metadata": {},
   "outputs": [],
   "source": [
    "response = client.create_cluster_subnet_group(\n",
    "    ClusterSubnetGroupName=cluster_subnet_group_name,\n",
    "    Description=cluster_subnet_group_descr,\n",
    "    SubnetIds=cluster_subnet_ids,\n",
    ")\n",
    "response['ClusterSubnetGroup']"
   ]
  },
  {
   "cell_type": "markdown",
   "metadata": {},
   "source": [
    "Create Redshift cluster<br>\n",
    "Documentation for [create_cluster](https://boto3.amazonaws.com/v1/documentation/api/latest/reference/services/redshift.html#Redshift.Client.create_cluster)"
   ]
  },
  {
   "cell_type": "code",
   "execution_count": null,
   "metadata": {},
   "outputs": [],
   "source": [
    "response = client.create_cluster(\n",
    "    ClusterIdentifier=cluster_identifier,\n",
    "    ClusterType='single-node',\n",
    "    NodeType='dc2.large',\n",
    "    MasterUsername=user_name,\n",
    "    MasterUserPassword=user_password,\n",
    "    ClusterSubnetGroupName=cluster_subnet_group_name,\n",
    "    PubliclyAccessible=True,\n",
    "    IamRoles=cluster_roles,\n",
    ")\n",
    "response['Cluster']"
   ]
  },
  {
   "cell_type": "markdown",
   "metadata": {},
   "source": [
    "Run the cell if you want to wait until the cluster is provision and available"
   ]
  },
  {
   "cell_type": "code",
   "execution_count": null,
   "metadata": {},
   "outputs": [],
   "source": [
    "start_time = time.time()\n",
    "cluster_available_waiter = client.get_waiter('cluster_available')\n",
    "cluster_available_waiter.wait(ClusterIdentifier=cluster_identifier, \n",
    "                                            WaiterConfig={'Delay': 10, 'MaxAttempts': 999}\n",
    "                             )\n",
    "print(f'Processing time: {time.time() - start_time} s')"
   ]
  }
 ],
 "metadata": {
  "kernelspec": {
   "display_name": "Python 3",
   "language": "python",
   "name": "python3"
  },
  "language_info": {
   "codemirror_mode": {
    "name": "ipython",
    "version": 3
   },
   "file_extension": ".py",
   "mimetype": "text/x-python",
   "name": "python",
   "nbconvert_exporter": "python",
   "pygments_lexer": "ipython3",
   "version": "3.7.2"
  }
 },
 "nbformat": 4,
 "nbformat_minor": 2
}
