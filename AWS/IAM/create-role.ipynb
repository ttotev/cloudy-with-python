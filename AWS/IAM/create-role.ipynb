{
 "cells": [
  {
   "cell_type": "code",
   "execution_count": null,
   "metadata": {},
   "outputs": [],
   "source": [
    "import boto3\n",
    "import json"
   ]
  },
  {
   "cell_type": "markdown",
   "metadata": {},
   "source": [
    "Credentials to access AWS (__aws_access_key_id__ and __aws_secret_access_key__) are stored in ~/.aws/credentials under [datalord] profile"
   ]
  },
  {
   "cell_type": "code",
   "execution_count": null,
   "metadata": {},
   "outputs": [],
   "source": [
    "session = boto3.Session(profile_name='datalord', region_name='us-east-1')\n",
    "client = session.client('iam')\n",
    "iam = session.resource('iam')"
   ]
  },
  {
   "cell_type": "markdown",
   "metadata": {},
   "source": [
    "Update the variables below. The sample values are intended for creation of a typical role for Redshift cluster. Adjust for your needs."
   ]
  },
  {
   "cell_type": "code",
   "execution_count": null,
   "metadata": {},
   "outputs": [],
   "source": [
    "role_name = 'DataLord-RH-role'\n",
    "role_description = 'Lets Redshift clusters to call AWS services on Datalord behalf.'\n",
    "service = 'redshift.amazonaws.com'\n",
    "policies_to_attach = [\n",
    "    'arn:aws:iam::aws:policy/AmazonS3FullAccess',\n",
    "]\n",
    "# Resources\n",
    "role = iam.Role(role_name)"
   ]
  },
  {
   "cell_type": "markdown",
   "metadata": {},
   "source": [
    "The following creates the new IAM role"
   ]
  },
  {
   "cell_type": "code",
   "execution_count": null,
   "metadata": {},
   "outputs": [],
   "source": [
    "assume_role_policy_document = json.dumps({'Version': '2012-10-17',\n",
    "   'Statement': [{'Effect': 'Allow',\n",
    "     'Principal': {'Service': service},\n",
    "     'Action': 'sts:AssumeRole'}]})\n",
    "\n",
    "response_create_role = client.create_role(\n",
    "    RoleName=role_name, \n",
    "    AssumeRolePolicyDocument=assume_role_policy_document,\n",
    "    Description=role_description\n",
    ")"
   ]
  },
  {
   "cell_type": "markdown",
   "metadata": {},
   "source": [
    "Run from here if you only need to attach policies to an existing IAM role"
   ]
  },
  {
   "cell_type": "code",
   "execution_count": null,
   "metadata": {},
   "outputs": [],
   "source": [
    "for policy in policies_to_attach:\n",
    "    role.attach_policy(PolicyArn=policy)"
   ]
  },
  {
   "cell_type": "markdown",
   "metadata": {},
   "source": [
    "List the role's currently attached policies for verification"
   ]
  },
  {
   "cell_type": "code",
   "execution_count": null,
   "metadata": {},
   "outputs": [],
   "source": [
    "print(f'Role ARN: {role.arn}')\n",
    "print('Attached policies:')\n",
    "for policy in role.attached_policies.all():\n",
    "    print(policy.arn)"
   ]
  }
 ],
 "metadata": {
  "kernelspec": {
   "display_name": "Python 3",
   "language": "python",
   "name": "python3"
  },
  "language_info": {
   "codemirror_mode": {
    "name": "ipython",
    "version": 3
   },
   "file_extension": ".py",
   "mimetype": "text/x-python",
   "name": "python",
   "nbconvert_exporter": "python",
   "pygments_lexer": "ipython3",
   "version": "3.7.2"
  }
 },
 "nbformat": 4,
 "nbformat_minor": 2
}
